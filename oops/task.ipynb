{
 "cells": [
  {
   "cell_type": "code",
   "execution_count": 5,
   "metadata": {},
   "outputs": [
    {
     "name": "stdout",
     "output_type": "stream",
     "text": [
      "TOSIF\n"
     ]
    }
   ],
   "source": [
    "import operation as op\n",
    "\n",
    "\n",
    "class Employee:\n",
    "    def __init__(self ,name,branch,uid,salary):\n",
    "        self.name = name\n",
    "        self.branch = branch\n",
    "        self.uid   = uid\n",
    "        self.salary = salary\n",
    "\n",
    "\n",
    "emp1 = Employee('tosif','IT',435,453234)\n",
    "emp2 = Employee('Ayan','IT',23,67545)\n",
    "\n",
    "res = op.capitalize(emp1.name)\n",
    "print(res)"
   ]
  },
  {
   "cell_type": "code",
   "execution_count": 7,
   "metadata": {},
   "outputs": [],
   "source": [
    "class Post:\n",
    "    def __init__(self,user,image,time):\n",
    "        self.user = user\n",
    "        self.image = image \n",
    "        self.time = time\n",
    "\n",
    "\n",
    "class User:\n",
    "    def __init__(self,name,mail,profile_pic):\n",
    "        self.name = name \n",
    "        self.mail = mail \n",
    "        self.profile = profile_pic"
   ]
  },
  {
   "cell_type": "code",
   "execution_count": 8,
   "metadata": {},
   "outputs": [],
   "source": [
    "ayan = User('ayan shaikh','ayan@gmail.com','pf_url')\n",
    "post1 = Post(ayan,'img_url','yest:6PM')\n"
   ]
  },
  {
   "cell_type": "code",
   "execution_count": 16,
   "metadata": {},
   "outputs": [
    {
     "name": "stdout",
     "output_type": "stream",
     "text": [
      "ayan shaikh\n",
      "img_url\n",
      "yest:6PM\n",
      "pf_url\n"
     ]
    }
   ],
   "source": [
    "# userOBJ = post1.user \n",
    "# userOBJ.name\n",
    "print(post1.user.name)\n",
    "print(post1.image)\n",
    "print(post1.time)\n",
    "print(post1.user.profile)\n"
   ]
  },
  {
   "cell_type": "code",
   "execution_count": null,
   "metadata": {},
   "outputs": [],
   "source": []
  }
 ],
 "metadata": {
  "interpreter": {
   "hash": "a5055cf8dbec482c608d12f1cf9fb091b77541effa35f176a3529affcaaa155d"
  },
  "kernelspec": {
   "display_name": "Python 3.9.7 ('base')",
   "language": "python",
   "name": "python3"
  },
  "language_info": {
   "codemirror_mode": {
    "name": "ipython",
    "version": 3
   },
   "file_extension": ".py",
   "mimetype": "text/x-python",
   "name": "python",
   "nbconvert_exporter": "python",
   "pygments_lexer": "ipython3",
   "version": "3.9.7"
  },
  "orig_nbformat": 4
 },
 "nbformat": 4,
 "nbformat_minor": 2
}
