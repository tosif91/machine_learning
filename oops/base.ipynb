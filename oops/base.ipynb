{
 "cells": [
  {
   "cell_type": "code",
   "execution_count": 56,
   "metadata": {},
   "outputs": [],
   "source": [
    "class Student:\n",
    "    name = ''\n",
    "    rollno =0\n",
    "    batch =''\n",
    "    branch=''\n",
    "    def __init__(self , name , rollno,batch,branch):  # constructor\n",
    "        self.name = name\n",
    "        self.rollno = rollno\n",
    "        self.batch = batch\n",
    "        self.branch = branch\n",
    "\n",
    "    def getNamewithBranch(self):\n",
    "        return self.name+self.branch\n",
    "\n",
    "    "
   ]
  },
  {
   "cell_type": "code",
   "execution_count": 57,
   "metadata": {},
   "outputs": [],
   "source": [
    "st_lst = []\n",
    "for i in range(10):\n",
    "    s = Student(str(i)+'name',str(i)+'rollno',str(i)+'batch',str(i)+'branch')\n",
    "    st_lst.append(s)"
   ]
  },
  {
   "cell_type": "code",
   "execution_count": 58,
   "metadata": {},
   "outputs": [
    {
     "name": "stdout",
     "output_type": "stream",
     "text": [
      "0name\n",
      "1name\n",
      "2name\n",
      "3name\n",
      "tosif \n",
      "5name\n",
      "6name\n",
      "7name\n",
      "8name\n",
      "9name\n"
     ]
    }
   ],
   "source": [
    "st_lst[4].name = 'tosif '\n",
    "for st in st_lst:\n",
    "    print(st.name)"
   ]
  },
  {
   "cell_type": "code",
   "execution_count": 59,
   "metadata": {},
   "outputs": [],
   "source": [
    "st_lst[4].name = 'ayan'"
   ]
  },
  {
   "cell_type": "code",
   "execution_count": 60,
   "metadata": {},
   "outputs": [
    {
     "data": {
      "text/plain": [
       "'ayan4branch'"
      ]
     },
     "execution_count": 60,
     "metadata": {},
     "output_type": "execute_result"
    }
   ],
   "source": [
    "st_lst[4].getNamewithBranch()"
   ]
  },
  {
   "cell_type": "code",
   "execution_count": null,
   "metadata": {},
   "outputs": [],
   "source": []
  }
 ],
 "metadata": {
  "interpreter": {
   "hash": "a5055cf8dbec482c608d12f1cf9fb091b77541effa35f176a3529affcaaa155d"
  },
  "kernelspec": {
   "display_name": "Python 3.9.7 ('base')",
   "language": "python",
   "name": "python3"
  },
  "language_info": {
   "codemirror_mode": {
    "name": "ipython",
    "version": 3
   },
   "file_extension": ".py",
   "mimetype": "text/x-python",
   "name": "python",
   "nbconvert_exporter": "python",
   "pygments_lexer": "ipython3",
   "version": "3.9.7"
  },
  "orig_nbformat": 4
 },
 "nbformat": 4,
 "nbformat_minor": 2
}
