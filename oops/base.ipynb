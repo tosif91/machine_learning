{
 "cells": [
  {
   "cell_type": "code",
   "execution_count": 43,
   "metadata": {},
   "outputs": [],
   "source": [
    "class Student:\n",
    "    def __init__(self , n , rno,btch,brnch,gender = 'undefined'):  # constructor\n",
    "        self.name = n\n",
    "        self.rollno = rno\n",
    "        self.batch = btch\n",
    "        self.branch = brnch\n",
    "        self.gender = gender\n",
    "\n",
    "    def getNamewithBranch(self):\n",
    "        return self.name+self.branch\n",
    "\n",
    "    "
   ]
  },
  {
   "cell_type": "code",
   "execution_count": 44,
   "metadata": {},
   "outputs": [],
   "source": [
    "st_lst = []\n",
    "for i in range(10):\n",
    "    s = Student(str(i)+'name',str(i)+'rollno',str(i)+'batch',str(i)+'branch')\n",
    "    st_lst.append(s)"
   ]
  },
  {
   "cell_type": "code",
   "execution_count": 45,
   "metadata": {},
   "outputs": [
    {
     "name": "stdout",
     "output_type": "stream",
     "text": [
      "0name\n",
      "1name\n",
      "2name\n",
      "3name\n",
      "tosif \n",
      "5name\n",
      "6name\n",
      "7name\n",
      "8name\n",
      "9name\n"
     ]
    }
   ],
   "source": [
    "st_lst[4].name = 'tosif '\n",
    "for st in st_lst:\n",
    "    print(st.name)"
   ]
  },
  {
   "cell_type": "code",
   "execution_count": 46,
   "metadata": {},
   "outputs": [],
   "source": [
    "st_lst[4].name = 'ayan'"
   ]
  },
  {
   "cell_type": "code",
   "execution_count": 47,
   "metadata": {},
   "outputs": [],
   "source": [
    "st = Student('tosif khan',324,'B','CSE')"
   ]
  },
  {
   "cell_type": "code",
   "execution_count": 48,
   "metadata": {},
   "outputs": [
    {
     "data": {
      "text/plain": [
       "'tosif khanCSE'"
      ]
     },
     "execution_count": 48,
     "metadata": {},
     "output_type": "execute_result"
    }
   ],
   "source": [
    "st.getNamewithBranch()\n"
   ]
  },
  {
   "cell_type": "code",
   "execution_count": 49,
   "metadata": {},
   "outputs": [
    {
     "data": {
      "text/plain": [
       "'undefined'"
      ]
     },
     "execution_count": 49,
     "metadata": {},
     "output_type": "execute_result"
    }
   ],
   "source": [
    "st.gender"
   ]
  },
  {
   "cell_type": "code",
   "execution_count": 50,
   "metadata": {},
   "outputs": [],
   "source": [
    "class PeriodicTable:\n",
    "    __totalele = 118\n",
    "    def acid(self):\n",
    "        return 'hcl'\n",
    "    def base(self):\n",
    "        return 'naoh'\n",
    "    def getCounts(self):\n",
    "        return self.__totalele"
   ]
  },
  {
   "cell_type": "code",
   "execution_count": 51,
   "metadata": {},
   "outputs": [
    {
     "data": {
      "text/plain": [
       "118"
      ]
     },
     "execution_count": 51,
     "metadata": {},
     "output_type": "execute_result"
    }
   ],
   "source": [
    "pr = PeriodicTable()\n",
    "pr.getCounts()"
   ]
  },
  {
   "cell_type": "code",
   "execution_count": 52,
   "metadata": {},
   "outputs": [],
   "source": [
    "class DataOperation:\n",
    "    def __init__(self ,dt_lst):\n",
    "        self.lst = dt_lst\n",
    "    def performOP(self):\n",
    "        print('operation started')\n",
    "        res =self.__algo()\n",
    "        return res \n",
    "    \n",
    "    def __algo(self):\n",
    "        res = [x  for x in self.lst if x > 10]\n",
    "        return res"
   ]
  },
  {
   "cell_type": "code",
   "execution_count": 53,
   "metadata": {},
   "outputs": [
    {
     "name": "stdout",
     "output_type": "stream",
     "text": [
      "operation started\n",
      "[11, 12, 13, 14, 15, 16, 17, 18, 19, 20, 21, 22, 23, 24, 25, 26, 27, 28, 29, 30, 31, 32, 33, 34, 35, 36, 37, 38, 39]\n"
     ]
    }
   ],
   "source": [
    "ds = DataOperation(range(1,40))\n",
    "res = ds.performOP()\n",
    "print(res)"
   ]
  },
  {
   "cell_type": "code",
   "execution_count": 54,
   "metadata": {},
   "outputs": [],
   "source": [
    "# Inner class \n",
    "class ParentClass:\n",
    "    def __init__(self,name):\n",
    "        self.name = name \n",
    "    class SubClass:\n",
    "        def __init__(self,number):\n",
    "            self.number = number \n"
   ]
  },
  {
   "cell_type": "code",
   "execution_count": 55,
   "metadata": {},
   "outputs": [
    {
     "data": {
      "text/plain": [
       "'tosif'"
      ]
     },
     "execution_count": 55,
     "metadata": {},
     "output_type": "execute_result"
    }
   ],
   "source": [
    "p = ParentClass('tosif')\n",
    "p.name"
   ]
  },
  {
   "cell_type": "code",
   "execution_count": 56,
   "metadata": {},
   "outputs": [
    {
     "data": {
      "text/plain": [
       "8770034423"
      ]
     },
     "execution_count": 56,
     "metadata": {},
     "output_type": "execute_result"
    }
   ],
   "source": [
    "sub = p.SubClass(8770034423)\n",
    "sub.number"
   ]
  },
  {
   "cell_type": "code",
   "execution_count": null,
   "metadata": {},
   "outputs": [],
   "source": []
  }
 ],
 "metadata": {
  "interpreter": {
   "hash": "a5055cf8dbec482c608d12f1cf9fb091b77541effa35f176a3529affcaaa155d"
  },
  "kernelspec": {
   "display_name": "Python 3.9.7 ('base')",
   "language": "python",
   "name": "python3"
  },
  "language_info": {
   "codemirror_mode": {
    "name": "ipython",
    "version": 3
   },
   "file_extension": ".py",
   "mimetype": "text/x-python",
   "name": "python",
   "nbconvert_exporter": "python",
   "pygments_lexer": "ipython3",
   "version": "3.9.7"
  },
  "orig_nbformat": 4
 },
 "nbformat": 4,
 "nbformat_minor": 2
}
