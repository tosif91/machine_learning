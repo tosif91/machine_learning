{
 "cells": [
  {
   "cell_type": "code",
   "execution_count": 65,
   "metadata": {},
   "outputs": [],
   "source": [
    "api_key = '563492ad6f91700001000001e37ce4a17da54a0386548165138fd211'\n",
    "\n",
    "base_url = 'https://api.pexels.com/v1/'\n",
    "# search?query=nature&per_page=1"
   ]
  },
  {
   "cell_type": "code",
   "execution_count": 66,
   "metadata": {},
   "outputs": [],
   "source": [
    "import requests \n",
    "import json \n",
    "from types import SimpleNamespace \n",
    "from PIL import Image"
   ]
  },
  {
   "cell_type": "code",
   "execution_count": 67,
   "metadata": {},
   "outputs": [
    {
     "data": {
      "text/plain": [
       "401"
      ]
     },
     "execution_count": 67,
     "metadata": {},
     "output_type": "execute_result"
    }
   ],
   "source": [
    "resp = requests.get(base_url+'search?query=nature&per_page=1&page=12')\n",
    "resp.status_code"
   ]
  },
  {
   "cell_type": "code",
   "execution_count": 69,
   "metadata": {},
   "outputs": [
    {
     "data": {
      "text/plain": [
       "namespace(error='Authorization field missing')"
      ]
     },
     "execution_count": 69,
     "metadata": {},
     "output_type": "execute_result"
    }
   ],
   "source": [
    "obj = json.loads(resp.content,object_hook=lambda d : SimpleNamespace(**d))\n",
    "obj"
   ]
  },
  {
   "cell_type": "code",
   "execution_count": 47,
   "metadata": {},
   "outputs": [
    {
     "ename": "AttributeError",
     "evalue": "'types.SimpleNamespace' object has no attribute 'photos'",
     "output_type": "error",
     "traceback": [
      "\u001b[1;31m---------------------------------------------------------------------------\u001b[0m",
      "\u001b[1;31mAttributeError\u001b[0m                            Traceback (most recent call last)",
      "\u001b[1;32mc:\\Users\\sajid\\Desktop\\machine_learning\\oops\\apis\\pexel_api.ipynb Cell 5'\u001b[0m in \u001b[0;36m<cell line: 1>\u001b[1;34m()\u001b[0m\n\u001b[1;32m----> <a href='vscode-notebook-cell:/c%3A/Users/sajid/Desktop/machine_learning/oops/apis/pexel_api.ipynb#ch0000004?line=0'>1</a>\u001b[0m img_url \u001b[39m=\u001b[39m obj\u001b[39m.\u001b[39;49mphotos[\u001b[39m10\u001b[39m]\u001b[39m.\u001b[39msrc\u001b[39m.\u001b[39mlarge\n\u001b[0;32m      <a href='vscode-notebook-cell:/c%3A/Users/sajid/Desktop/machine_learning/oops/apis/pexel_api.ipynb#ch0000004?line=1'>2</a>\u001b[0m Image\u001b[39m.\u001b[39mopen(requests\u001b[39m.\u001b[39mget(img_url,stream\u001b[39m=\u001b[39m\u001b[39mTrue\u001b[39;00m)\u001b[39m.\u001b[39mraw)\n",
      "\u001b[1;31mAttributeError\u001b[0m: 'types.SimpleNamespace' object has no attribute 'photos'"
     ]
    }
   ],
   "source": [
    "img_url = obj.photos[10].src.large\n",
    "Image.open(requests.get(img_url,stream=True).raw)"
   ]
  },
  {
   "cell_type": "code",
   "execution_count": 25,
   "metadata": {},
   "outputs": [
    {
     "ename": "AttributeError",
     "evalue": "'types.SimpleNamespace' object has no attribute 'photos'",
     "output_type": "error",
     "traceback": [
      "\u001b[1;31m---------------------------------------------------------------------------\u001b[0m",
      "\u001b[1;31mAttributeError\u001b[0m                            Traceback (most recent call last)",
      "\u001b[1;32mc:\\Users\\sajid\\Desktop\\machine_learning\\oops\\apis\\pexel_api.ipynb Cell 6'\u001b[0m in \u001b[0;36m<cell line: 2>\u001b[1;34m()\u001b[0m\n\u001b[0;32m      <a href='vscode-notebook-cell:/c%3A/Users/sajid/Desktop/machine_learning/oops/apis/pexel_api.ipynb#ch0000005?line=0'>1</a>\u001b[0m pgp \u001b[39m=\u001b[39m []\n\u001b[1;32m----> <a href='vscode-notebook-cell:/c%3A/Users/sajid/Desktop/machine_learning/oops/apis/pexel_api.ipynb#ch0000005?line=1'>2</a>\u001b[0m \u001b[39mfor\u001b[39;00m p \u001b[39min\u001b[39;00m obj\u001b[39m.\u001b[39;49mphotos:\n\u001b[0;32m      <a href='vscode-notebook-cell:/c%3A/Users/sajid/Desktop/machine_learning/oops/apis/pexel_api.ipynb#ch0000005?line=2'>3</a>\u001b[0m     pgp\u001b[39m.\u001b[39mappend(p\u001b[39m.\u001b[39mphotographer)\n",
      "\u001b[1;31mAttributeError\u001b[0m: 'types.SimpleNamespace' object has no attribute 'photos'"
     ]
    }
   ],
   "source": [
    "pgp = []\n",
    "for p in obj.photos:\n",
    "    pgp.append(p.photographer)\n"
   ]
  },
  {
   "cell_type": "code",
   "execution_count": 17,
   "metadata": {},
   "outputs": [
    {
     "ename": "NameError",
     "evalue": "name 'photg_lst' is not defined",
     "output_type": "error",
     "traceback": [
      "\u001b[1;31m---------------------------------------------------------------------------\u001b[0m",
      "\u001b[1;31mNameError\u001b[0m                                 Traceback (most recent call last)",
      "\u001b[1;32mc:\\Users\\sajid\\Desktop\\machine_learning\\oops\\apis\\pexel_api.ipynb Cell 7'\u001b[0m in \u001b[0;36m<cell line: 1>\u001b[1;34m()\u001b[0m\n\u001b[1;32m----> <a href='vscode-notebook-cell:/c%3A/Users/sajid/Desktop/machine_learning/oops/apis/pexel_api.ipynb#ch0000006?line=0'>1</a>\u001b[0m photg_lst\n",
      "\u001b[1;31mNameError\u001b[0m: name 'photg_lst' is not defined"
     ]
    }
   ],
   "source": [
    "photg_lst"
   ]
  },
  {
   "cell_type": "code",
   "execution_count": 18,
   "metadata": {},
   "outputs": [
    {
     "ename": "AttributeError",
     "evalue": "'types.SimpleNamespace' object has no attribute 'photos'",
     "output_type": "error",
     "traceback": [
      "\u001b[1;31m---------------------------------------------------------------------------\u001b[0m",
      "\u001b[1;31mAttributeError\u001b[0m                            Traceback (most recent call last)",
      "\u001b[1;32mc:\\Users\\sajid\\Desktop\\machine_learning\\oops\\apis\\pexel_api.ipynb Cell 8'\u001b[0m in \u001b[0;36m<cell line: 1>\u001b[1;34m()\u001b[0m\n\u001b[1;32m----> <a href='vscode-notebook-cell:/c%3A/Users/sajid/Desktop/machine_learning/oops/apis/pexel_api.ipynb#ch0000007?line=0'>1</a>\u001b[0m obj\u001b[39m.\u001b[39;49mphotos[\u001b[39m0\u001b[39m]\n",
      "\u001b[1;31mAttributeError\u001b[0m: 'types.SimpleNamespace' object has no attribute 'photos'"
     ]
    }
   ],
   "source": [
    "obj.photos[0]"
   ]
  },
  {
   "cell_type": "code",
   "execution_count": 70,
   "metadata": {},
   "outputs": [
    {
     "name": "stdout",
     "output_type": "stream",
     "text": [
      "{\"message\":\"You are not subscribed to this API.\"}\n"
     ]
    }
   ],
   "source": [
    "# import requests\n",
    "\n",
    "# url = \"https://movie-database-alternative.p.rapidapi.com/\"\n",
    "\n",
    "# querystring = {\"s\":\"Avengers Endgame\",\"r\":\"json\",\"page\":\"1\"}\n",
    "\n",
    "# headers = {\n",
    "# \t\"X-RapidAPI-Host\": \"movie-database-alternative.p.rapidapi.com\",\n",
    "# \t\"X-RapidAPI-Key\": \"8548d4e4damshe73c2141d9df696p130d21jsn431b6f6fe293\"\n",
    "# }\n",
    "\n",
    "# response = requests.request(\"GET\", url, headers=headers, params=querystring)\n",
    "\n",
    "# print(response.text)"
   ]
  }
 ],
 "metadata": {
  "interpreter": {
   "hash": "a5055cf8dbec482c608d12f1cf9fb091b77541effa35f176a3529affcaaa155d"
  },
  "kernelspec": {
   "display_name": "Python 3.9.7 ('base')",
   "language": "python",
   "name": "python3"
  },
  "language_info": {
   "codemirror_mode": {
    "name": "ipython",
    "version": 3
   },
   "file_extension": ".py",
   "mimetype": "text/x-python",
   "name": "python",
   "nbconvert_exporter": "python",
   "pygments_lexer": "ipython3",
   "version": "3.10.2"
  },
  "orig_nbformat": 4
 },
 "nbformat": 4,
 "nbformat_minor": 2
}
