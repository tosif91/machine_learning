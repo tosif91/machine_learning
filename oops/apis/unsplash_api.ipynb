{
 "cells": [
  {
   "cell_type": "code",
   "execution_count": null,
   "metadata": {},
   "outputs": [],
   "source": [
    "api_Key = '3heWUrkWUlOsy83gtnH7Sp3ARkZLAEcQ0Kx7u6udsZc'\n",
    "Secret_key = jHMe7CvEnpX4QTBbnFRFTxhq_QiYM95fVEKlHWpNRQI\n"
   ]
  }
 ],
 "metadata": {
  "language_info": {
   "name": "python"
  },
  "orig_nbformat": 4
 },
 "nbformat": 4,
 "nbformat_minor": 2
}
