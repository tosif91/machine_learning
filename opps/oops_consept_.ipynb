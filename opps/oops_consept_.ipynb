{
 "cells": [
  {
   "cell_type": "markdown",
   "metadata": {},
   "source": [
    "# class\n",
    " :- collection of object and collection of same time of memeber function and member \n",
    "    variable  is called class. it is a blue print of indivisual object and it is also type of abstract data type.\n",
    "example :- person is cover all person but its behavior and function is difrent ie name age     skills "
   ]
  },
  {
   "cell_type": "code",
   "execution_count": 2,
   "metadata": {},
   "outputs": [
    {
     "data": {
      "text/plain": [
       "23"
      ]
     },
     "execution_count": 2,
     "metadata": {},
     "output_type": "execute_result"
    }
   ],
   "source": [
    "class Person:\n",
    "    # Note: The self parameter is a reference to the current instance of the class, and is used to access variables that belong to the class.\n",
    "    def __init__(self, name, age): \n",
    "        self.name = name\n",
    "        self.age = age\n",
    "obj = Person('sajid',14)\n",
    "obj.age\n",
    "obj1= Person('tosif',23)\n",
    "obj1.age"
   ]
  },
  {
   "cell_type": "markdown",
   "metadata": {},
   "source": [
    "# Object \n",
    ":- any entity has state and behave is known as object \n",
    " it can be physical or logical it can be define as instance of class\n",
    " it is run time entity is takes memory during run time object is intialize \n",
    " object intialize the value of the constructor which have some atributes.\n",
    "  "
   ]
  },
  {
   "cell_type": "code",
   "execution_count": 3,
   "metadata": {},
   "outputs": [
    {
     "name": "stdout",
     "output_type": "stream",
     "text": [
      "23\n",
      "tosif 574\n",
      "tosif3 574\n",
      "tosif4 574\n"
     ]
    }
   ],
   "source": [
    "class Person:\n",
    "    h = 5\n",
    "    def __init__(self ,age , name):\n",
    "        self.age = age\n",
    "        self.name = name\n",
    "    def agee(h):\n",
    "        return print(h) \n",
    "    def name(self, name):\n",
    "        return print(name)\n",
    "p1 = Person(12,'sajid')\n",
    "Person.agee(h=23)\n",
    "p2= Person(574,'tosif')\n",
    "print(p2.name,p2.age)\n",
    "p3= Person(54,'tosif3')\n",
    "print(p3.name,p2.age)\n",
    "p4= Person(54,'tosif4')\n",
    "print(p4.name,p2.age)\n",
    "p5= Person(74,'tosif5')\n",
    "# here class is blue print and object is instances of class of perticular object which hold the own value\n",
    "# code of creating object\n",
    "\n"
   ]
  },
  {
   "cell_type": "markdown",
   "metadata": {},
   "source": [
    "# self\n",
    " class is blue print and object is instances of class of perticular object which hold the own value"
   ]
  },
  {
   "cell_type": "markdown",
   "metadata": {},
   "source": [
    "# inheritance\n",
    ":- when an class(objec) aquire of all properties and behaveir of parent class(object) \n",
    "   is called inheritance \n",
    "   types of inheritance \n",
    "   1 single level inheritance\n",
    "   2 multiple inheritance\n",
    "   3 multilevel inheritance\n",
    "   4 heirccle inheritance\n",
    "   note :- jo class inherits keregi vo base class hogi \n",
    "           jo class inherits hogi vo drived class hogi"
   ]
  },
  {
   "cell_type": "code",
   "execution_count": 4,
   "metadata": {},
   "outputs": [
    {
     "name": "stdout",
     "output_type": "stream",
     "text": [
      "i am a educated becouse of my father\n",
      "best dancer\n",
      "154\n"
     ]
    }
   ],
   "source": [
    "class parent:\n",
    "    key = 154\n",
    "    __mob = 'phone' \n",
    "    def dance(self):\n",
    "        return print('best dancer')\n",
    "class child(parent):\n",
    "    def educate(self):\n",
    "        return print('i am a educated becouse of my father')\n",
    "c = child()\n",
    "c.educate()\n",
    "c.dance()\n",
    "print(c.key)\n",
    "# print(c.__mob)\n",
    "\n",
    "# it is example of inheritence \n",
    "# it is many types of inheritance\n",
    "\n",
    "    \n"
   ]
  },
  {
   "cell_type": "markdown",
   "metadata": {},
   "source": [
    "# abstraction\n",
    ":- hinding internals details and showing the functionalitites is know as abstraction\n",
    "act of represting  essential feature without including background details \n",
    "most language use to abstract and interface to achive abstraction\n"
   ]
  },
  {
   "cell_type": "code",
   "execution_count": 5,
   "metadata": {},
   "outputs": [
    {
     "name": "stdout",
     "output_type": "stream",
     "text": [
      "c and c++\n"
     ]
    }
   ],
   "source": [
    "\n",
    "class Student():\n",
    "    #  def __init__(self, name, rollno):\n",
    "    #      self.name = name \n",
    "    #      self.rollno = rollno\n",
    "    \n",
    "     def skills(self):\n",
    "         pass\n",
    "    \n",
    "class Student1(Student):\n",
    "    def skills(self):\n",
    "        return print('c and c++')\n",
    "class Student2(Student):\n",
    "    def skills(self):\n",
    "        return print('python')\n",
    "class Student3(Student):\n",
    "    def skills(self):\n",
    "        return print('flutter')\n",
    "\n",
    "st = Student1()\n",
    "st.skills()\n",
    "    \n",
    "    \n",
    "\n",
    "    "
   ]
  },
  {
   "cell_type": "markdown",
   "metadata": {},
   "source": [
    "# PolyMorphism \n",
    ":- if one task perfome is in diffrent differnt diffrent way is know as PolyMorphism \n",
    " it has many form \n",
    "example :- IN real world  we have student in at your college but we have son in at you home \n",
    "           in company we employee "
   ]
  },
  {
   "cell_type": "code",
   "execution_count": 6,
   "metadata": {},
   "outputs": [
    {
     "name": "stdout",
     "output_type": "stream",
     "text": [
      "12\n",
      "5\n",
      "7\n",
      "4\n"
     ]
    }
   ],
   "source": [
    "str = 'sajid shaikh'\n",
    "tup = ('mod','tue','wed','thurs','fri')\n",
    "list = [1,2,3,4,5,6,7]\n",
    "dict = {'sajid','tosif','asad','farhan'}\n",
    "print(len(str))\n",
    "print(len(tup))\n",
    "print(len(list))\n",
    "print(len(dict))"
   ]
  },
  {
   "cell_type": "markdown",
   "metadata": {},
   "source": [
    "# constructors\n",
    ":- it is used to initialize(assign values) to the data members of the class \n",
    "   when an object of the class is created in python the __init__() method is\n",
    "   called constructor and it is alwaysa called when an object is created\n",
    "  :-types of constructor\n",
    "     1 default constructor\n",
    "     2 perameterc constructor"
   ]
  },
  {
   "cell_type": "code",
   "execution_count": 7,
   "metadata": {},
   "outputs": [
    {
     "name": "stdout",
     "output_type": "stream",
     "text": [
      "sajid shaikh\n"
     ]
    }
   ],
   "source": [
    "# example of default constructors\n",
    "class Sajid:\n",
    "    def __init__(self):\n",
    "        self.name = \"sajid shaikh\"\n",
    "    def print_name(self):\n",
    "        print(self.name)\n",
    "obj = Sajid()\n",
    "obj.print_name()\n"
   ]
  },
  {
   "cell_type": "code",
   "execution_count": 8,
   "metadata": {},
   "outputs": [
    {
     "name": "stdout",
     "output_type": "stream",
     "text": [
      "sajid raies shaikh\n"
     ]
    }
   ],
   "source": [
    "# example of perameter constructor\n",
    "class Sajid:\n",
    "    def __init__(self,fname,mname,lname):\n",
    "        self.first = fname\n",
    "        self.midle = mname\n",
    "        self.last = lname\n",
    "    def conc(self):\n",
    "        print(self.first+self.midle+self.last)\n",
    "sa= Sajid('sajid',' raies ','shaikh')  \n",
    "sa.conc()"
   ]
  },
  {
   "cell_type": "markdown",
   "metadata": {},
   "source": [
    "# overrinding in pyhton \n",
    ":- if we have two class prent class and child class is drived class of his parennt\n",
    " and perent han child have both function have same name with same argument then we create \n",
    " object of child class child class also use parent funtion . but we call function which have same name so in python child class of function have come this method is call overring"
   ]
  },
  {
   "cell_type": "code",
   "execution_count": 9,
   "metadata": {},
   "outputs": [
    {
     "name": "stdout",
     "output_type": "stream",
     "text": [
      "i am very good dancer\n"
     ]
    }
   ],
   "source": [
    "class Parent:                          \n",
    "    def dancer(self):\n",
    "        print(\" i am a dancer \")\n",
    "\n",
    "class child(Parent):\n",
    "    def dancer(self):\n",
    "        print(\"i am very good dancer\")\n",
    "\n",
    "ob= child()\n",
    "ob.dancer()\n",
    "#  here function is override in"
   ]
  },
  {
   "cell_type": "code",
   "execution_count": 10,
   "metadata": {},
   "outputs": [
    {
     "name": "stdout",
     "output_type": "stream",
     "text": [
      "i am very good dancer\n",
      "i am a dancer \n"
     ]
    }
   ],
   "source": [
    "class Parent:                          \n",
    "    def dancer(self):\n",
    "        print(\"i am a dancer \")\n",
    "\n",
    "class child(Parent):\n",
    "    def dancer(self):\n",
    "        print(\"i am very good dancer\")\n",
    "        super().dancer()\n",
    "\n",
    "ob= child()\n",
    "ob.dancer()\n",
    "\n",
    "# but here super ......"
   ]
  },
  {
   "cell_type": "markdown",
   "metadata": {},
   "source": [
    "# overloading in python \n",
    "python does not support method of overridng by default but we can achive differnt ways\n",
    "\"Depending on how the function has been defined, we can call it with zero, one, two, or even many parameters. This is referred to as \"function overloading\".\n",
    "\n",
    "\n",
    "\"\n"
   ]
  },
  {
   "cell_type": "code",
   "execution_count": 11,
   "metadata": {},
   "outputs": [],
   "source": [
    "# write a code here overloading"
   ]
  },
  {
   "cell_type": "markdown",
   "metadata": {},
   "source": [
    "# encapculation \n",
    ":- binding the data or wraping the data together into a single unit is know as encapsulation\n",
    "   all data member shoul be private \n",
    "   it can be accessed using method of thier current class\n",
    "   "
   ]
  },
  {
   "cell_type": "markdown",
   "metadata": {},
   "source": [
    " Public Member: Accessible anywhere from otside oclass.///  .\n",
    "\n",
    " Private Member: Accessible within the class  ///  _(underscore)\n",
    " \n",
    " Protected Member: Accessible within the class and its sub-classes /// __(double underscore)"
   ]
  },
  {
   "cell_type": "code",
   "execution_count": 12,
   "metadata": {},
   "outputs": [],
   "source": [
    "# we create the class with different different method it means you achive\n",
    "# encapsulation class is ecample of encapsulation "
   ]
  },
  {
   "cell_type": "markdown",
   "metadata": {},
   "source": [
    "# Abstract Data Type (ADT) In Python\n",
    "What is ADT?\n",
    "The abstract data type is special kind of data type, whose behavior is defined by a set of values and set of operations. The keyword “Abstract” is used as we can use these data types, we can perform different operations. But how those operations are working that is totally hidden from the user. The ADT is made of primitive data types, but operation logics are hidden.\n",
    "\n",
    "Some examples of ADT are Stack, Queue, List etc.\n",
    "\n",
    "# Stack Abstract Data Type\n",
    "The stack abstract data type is defined by the following structure and operations. A stack is structured, as described above, as an ordered collection of items where items are added to and removed from the end called the “top”. Stacks are ordered LIFO. The stack operations are given below.\n",
    "\n",
    "Stack(): creates a new stack that is empty. It needs no parameters and returns an empty stack.\n",
    "push(item): adds a new item to the top of the stack. It needs the item and returns nothing.\n",
    "\n",
    "pop(): removes the top item from the stack. It needs no parameters and returns the item. The stack is modified.\n",
    "\n",
    "peek(): returns the top item from the stack but does not remove it. It needs no parameters. The stack is not modified.\n",
    "\n",
    "isEmpty(): tests to see whether the stack is empty. It needs no parameters and returns a boolean value.\n",
    "\n",
    "size(): returns the number of items on the stack. It needs no parameters and returns an integer.\n",
    "\n",
    "For example, if s is a stack that has been created and starts out empty, then it shows the results of a sequence of stack operations. Under stack contents, the top item is listed at the far right."
   ]
  },
  {
   "cell_type": "markdown",
   "metadata": {},
   "source": [
    "# local variable\n",
    ":- local variablea are those which are initialized inside a function and its belong only particalur part. it can not accessed anywhre out side the function \n",
    "\n",
    "code me dekho samjh aajyega "
   ]
  },
  {
   "cell_type": "code",
   "execution_count": 13,
   "metadata": {},
   "outputs": [
    {
     "name": "stdout",
     "output_type": "stream",
     "text": [
      "sajid dulabhai\n"
     ]
    }
   ],
   "source": [
    "class A:\n",
    "    name = 'sajid dulabhai'\n",
    "    print(name)\n"
   ]
  },
  {
   "cell_type": "code",
   "execution_count": 14,
   "metadata": {},
   "outputs": [
    {
     "name": "stdout",
     "output_type": "stream",
     "text": [
      "sajid dulabhai\n"
     ]
    },
    {
     "ename": "NameError",
     "evalue": "name 'name' is not defined",
     "output_type": "error",
     "traceback": [
      "\u001b[1;31m---------------------------------------------------------------------------\u001b[0m",
      "\u001b[1;31mNameError\u001b[0m                                 Traceback (most recent call last)",
      "\u001b[1;32mc:\\Users\\sajid\\Desktop\\machine_learning\\opps\\oops_consept_.ipynb Cell 26'\u001b[0m in \u001b[0;36m<cell line: 4>\u001b[1;34m()\u001b[0m\n\u001b[0;32m      <a href='vscode-notebook-cell:/c%3A/Users/sajid/Desktop/machine_learning/opps/oops_consept_.ipynb#ch0000025?line=1'>2</a>\u001b[0m     name \u001b[39m=\u001b[39m \u001b[39m'\u001b[39m\u001b[39msajid dulabhai\u001b[39m\u001b[39m'\u001b[39m\n\u001b[0;32m      <a href='vscode-notebook-cell:/c%3A/Users/sajid/Desktop/machine_learning/opps/oops_consept_.ipynb#ch0000025?line=2'>3</a>\u001b[0m     \u001b[39mprint\u001b[39m(name)\n\u001b[1;32m----> <a href='vscode-notebook-cell:/c%3A/Users/sajid/Desktop/machine_learning/opps/oops_consept_.ipynb#ch0000025?line=3'>4</a>\u001b[0m \u001b[39mprint\u001b[39m(name)\n",
      "\u001b[1;31mNameError\u001b[0m: name 'name' is not defined"
     ]
    }
   ],
   "source": [
    "class A:\n",
    "    name = 'sajid dulabhai'\n",
    "    print(name)\n",
    "print(name)\n",
    "# through error don't run\n",
    "# but here name variable scope in the class so name is local variable of his class"
   ]
  },
  {
   "cell_type": "markdown",
   "metadata": {},
   "source": [
    "# Global Variables\n",
    "The global variables are those which are defined outside any function and which are accessible throughout the program i.e. inside and outside of every function Let’s see how to create a global variable"
   ]
  },
  {
   "cell_type": "code",
   "execution_count": 16,
   "metadata": {},
   "outputs": [
    {
     "name": "stdout",
     "output_type": "stream",
     "text": [
      "234\n",
      "235\n"
     ]
    }
   ],
   "source": [
    "age = 23\n",
    "class Dulabhai:\n",
    "    print(age)\n",
    "print(age+1)\n",
    "# here age is out side of the class we use in the class after using in the class we have used outside of the class and also used any whre"
   ]
  },
  {
   "cell_type": "markdown",
   "metadata": {},
   "source": [
    "# compile time\n",
    "compile time is the time at which source code is converted into a executed code \n",
    "it convertd source code into a machinne code"
   ]
  },
  {
   "cell_type": "markdown",
   "metadata": {},
   "source": [
    "# run time \n",
    "run time is the time at ecxecutable code is started running \n"
   ]
  },
  {
   "cell_type": "markdown",
   "metadata": {},
   "source": [
    "# Question \n",
    "whats is diffrence between compiler and interpreter?????"
   ]
  }
 ],
 "metadata": {
  "interpreter": {
   "hash": "b89b5cfaba6639976dc87ff2fec6d58faec662063367e2c229c520fe71072417"
  },
  "kernelspec": {
   "display_name": "Python 3.10.2 64-bit",
   "language": "python",
   "name": "python3"
  },
  "language_info": {
   "codemirror_mode": {
    "name": "ipython",
    "version": 3
   },
   "file_extension": ".py",
   "mimetype": "text/x-python",
   "name": "python",
   "nbconvert_exporter": "python",
   "pygments_lexer": "ipython3",
   "version": "3.10.2"
  },
  "orig_nbformat": 4
 },
 "nbformat": 4,
 "nbformat_minor": 2
}
