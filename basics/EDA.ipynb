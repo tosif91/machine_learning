{
 "cells": [
  {
   "cell_type": "code",
<<<<<<< HEAD
   "execution_count": null,
=======
   "execution_count": 5,
>>>>>>> 3500bd2e9b58dd11f83829e0ad2058b2fcee24df
   "metadata": {},
   "outputs": [],
   "source": [
    "# Importing pandas and numpy library\n",
    "\n",
    "import pandas as pd \n",
    "import numpy as np \n",
    "\n",
    "#for data visualization \n",
    "import seaborn as sns \n",
    "import matplotlib.pyplot as plt \n",
    "\n",
    "#to remove warnings\n",
    "import warnings\n",
    "warnings.filterwarnings('ignore')\n",
    "\n",
    "%matplotlib inline"
   ]
  },
  {
   "cell_type": "code",
<<<<<<< HEAD
   "execution_count": null,
   "metadata": {},
   "outputs": [],
   "source": [
    "df1  = pd.read_csv('data/user_device.csv')\n",
    "df2 = pd.read_csv('data/user_usage.csv')\n",
    "df1.shape , df2.shape "
=======
   "execution_count": 6,
   "metadata": {},
   "outputs": [],
   "source": [
    "# Reading our csv/excel file\n",
    "\n",
    "df = pd.read_csv('data/housing.csv')"
>>>>>>> 3500bd2e9b58dd11f83829e0ad2058b2fcee24df
   ]
  },
  {
   "cell_type": "code",
   "execution_count": null,
   "metadata": {},
   "outputs": [],
   "source": [
<<<<<<< HEAD
    "df1.head(3)\n"
=======
    "# For getting top 5 rows function -> head() is used \n",
    "\n",
    "df.head()"
>>>>>>> 3500bd2e9b58dd11f83829e0ad2058b2fcee24df
   ]
  },
  {
   "cell_type": "code",
   "execution_count": null,
   "metadata": {},
   "outputs": [],
   "source": [
<<<<<<< HEAD
    "df2.head(3)"
   ]
  },
  {
   "cell_type": "code",
   "execution_count": null,
   "metadata": {},
   "outputs": [],
   "source": [
    "df = pd.merge(left=df1,right=df2,how='inner', on='use_id')\n",
    "df.shape "
   ]
  },
  {
   "cell_type": "code",
   "execution_count": null,
   "metadata": {},
   "outputs": [],
   "source": [
    "df.drop(columns=['use_type_id','user_id','use_id'],inplace = True)\n",
    "df.head()"
=======
    "# Now we can check shape of our Data Frame\n",
    "# i.e., its dimensions (rows, columns)\n",
    "\n",
    "df.shape"
>>>>>>> 3500bd2e9b58dd11f83829e0ad2058b2fcee24df
   ]
  },
  {
   "cell_type": "code",
   "execution_count": null,
   "metadata": {},
   "outputs": [],
   "source": [
    "# To get the quick info of all columns we can use\n",
    "# info() function which shows all column's dtypes \n",
    "# and non-null count in columns \n",
    " \n",
    "df.info()"
   ]
  },
  {
   "cell_type": "code",
   "execution_count": null,
   "metadata": {},
   "outputs": [],
   "source": [
    "df.describe()"
   ]
  },
  {
   "cell_type": "code",
   "execution_count": null,
   "metadata": {},
   "outputs": [],
   "source": [
    "df.platform_version.unique()"
   ]
  },
  {
   "cell_type": "code",
   "execution_count": null,
   "metadata": {},
   "outputs": [],
   "source": [
<<<<<<< HEAD
    "# Univariate analysis \n",
=======
    "# Here we check all columns name \n",
    "\n",
>>>>>>> 3500bd2e9b58dd11f83829e0ad2058b2fcee24df
    "df.columns"
   ]
  },
  {
   "cell_type": "code",
<<<<<<< HEAD
   "execution_count": null,
=======
   "execution_count": 2,
>>>>>>> 3500bd2e9b58dd11f83829e0ad2058b2fcee24df
   "metadata": {},
   "outputs": [
    {
     "name": "stderr",
     "output_type": "stream",
     "text": [
      "Matplotlib is building the font cache; this may take a moment.\n"
     ]
    }
   ],
   "source": [
<<<<<<< HEAD
    "# cat_col = ['platform','platform_version','device']\n",
    "# barplots for categorical data \n",
    "\n",
    "df['platform'].hist()"
=======
    "# seaborn is used for drawing statistical graphs\n",
    "# seaborn is more comfortable in handling pandas Dataframes \n",
    "# seaborn is extended version of matplotlib which uses Matplotlib along with Numpy and pandas for plotting graphs \n",
    "import seaborn as sns \n",
    "\n",
    "\n",
    "# matplotlib uses pandas and numpy to plot graphs\n",
    "# closing all plotted graphs is easy in matplotlib where OOM - Out Of Memory Issues can be obtained in seaborn\n",
    "import matplotlib.pyplot as plt "
>>>>>>> 3500bd2e9b58dd11f83829e0ad2058b2fcee24df
   ]
  },
  {
   "cell_type": "code",
<<<<<<< HEAD
   "execution_count": null,
   "metadata": {},
   "outputs": [],
   "source": [
    "# plt.figure(figsize=(10,8))\n",
    "plt.hist(x=df.platform_version )\n",
    "plt.xlabel('Platforms')\n",
    "plt.ylabel('Counts')\n",
    "plt.show()\n"
=======
   "execution_count": 7,
   "metadata": {},
   "outputs": [
    {
     "data": {
      "text/plain": [
       "<AxesSubplot:xlabel='bedrooms', ylabel='price'>"
      ]
     },
     "execution_count": 7,
     "metadata": {},
     "output_type": "execute_result"
    },
    {
     "data": {
      "image/png": "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",
      "text/plain": [
       "<Figure size 432x288 with 1 Axes>"
      ]
     },
     "metadata": {
      "needs_background": "light"
     },
     "output_type": "display_data"
    }
   ],
   "source": [
    "# for drawing a scatterplot - scatterplot() function is used\n",
    "# it takes two parameters x and y , Here we can mention columns whose data-range is to be drawn on x-axis and y-axis i.e., x = 'bedrooms', y = 'price'\n",
    "# In the third parameter we give Dataframe or DF object i.e., data = df\n",
    "\n",
    "sns.scatterplot(x='bedrooms',y='price',data=df)"
>>>>>>> 3500bd2e9b58dd11f83829e0ad2058b2fcee24df
   ]
  },
  {
   "cell_type": "code",
<<<<<<< HEAD
   "execution_count": null,
   "metadata": {},
   "outputs": [],
   "source": [
    "plt.figure(figsize=(40,40))\n",
    "plt.hist(x=df.device )\n",
    "plt.xlabel('Platforms')\n",
    "plt.ylabel('Counts')\n",
    "plt.show()\n"
=======
   "execution_count": 9,
   "metadata": {},
   "outputs": [
    {
     "data": {
      "text/plain": [
       "<AxesSubplot:xlabel='area', ylabel='price'>"
      ]
     },
     "execution_count": 9,
     "metadata": {},
     "output_type": "execute_result"
    },
    {
     "data": {
      "image/png": "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",
      "text/plain": [
       "<Figure size 432x288 with 1 Axes>"
      ]
     },
     "metadata": {
      "needs_background": "light"
     },
     "output_type": "display_data"
    }
   ],
   "source": [
    "sns.scatterplot(x='area',y='price',data=df.head())\n",
    "#                                            ^\n",
    "#                             we can also use DF functions here\n",
    "#                             i.e., head(), tail() etc. "
>>>>>>> 3500bd2e9b58dd11f83829e0ad2058b2fcee24df
   ]
  },
  {
   "cell_type": "code",
   "execution_count": null,
   "metadata": {},
   "outputs": [],
   "source": [
<<<<<<< HEAD
    "df.device"
=======
    "# To Draw a histogram hist() - function is used \n",
    "# Here we are drawing hist() on column airconditioning which has two unique values yes and no\n",
    "# The histogram is drawn for all DF and on both conditions yes and no.\n",
    "# In simple words ratio and graph between yes and no is shown here for all airconditioning columns.\n",
    "df.airconditioning.hist()"
>>>>>>> 3500bd2e9b58dd11f83829e0ad2058b2fcee24df
   ]
  },
  {
   "cell_type": "code",
   "execution_count": null,
   "metadata": {},
   "outputs": [],
   "source": [
<<<<<<< HEAD
    "# sm-10  , moto 34\n",
    "def getBrandName(str):\n",
    "    lst = str.split('-') # ['moto 34']\n",
    "    str = ' '.join(lst) #'moto 34'\n",
    "    nlst = str.split(' ') # ['moto','34'] \n",
    "    if nlst[0] == 'SM':\n",
    "        return 'Samsung'\n",
    "    elif nlst[0] == 'GT':\n",
    "        return 'RealME'\n",
    "    \n",
    "    \n",
    "    return nlst[0] #'sm'\n",
    "\n",
    "df['maker'] = df.device.apply(getBrandName)\n",
    "# sm-10\n",
    "    "
=======
    "# Here we are plotting graph between mainroad and price i.e., if house is on main road prices will increase\n",
    "sns.scatterplot(x='mainroad',y='price',data=df)\n",
    "\n",
    "# In graph we can see if house is on main road i.e., yes. price for house increases. \n",
    "# and if house is not on main road i.e., no. price for house remains low."
>>>>>>> 3500bd2e9b58dd11f83829e0ad2058b2fcee24df
   ]
  },
  {
   "cell_type": "code",
   "execution_count": null,
   "metadata": {},
   "outputs": [],
   "source": [
<<<<<<< HEAD
    "df.head()"
=======
    "# this is most interesting function in seaborn libraray \n",
    "# function -> pairplot\n",
    "# This function gives us graphs for all data in our Dataframe \n",
    "# It gives graphs for all columns combination. \n",
    "\n",
    "sns.pairplot(df)\n",
    "\n",
    "# Note - Brief knowledge of real estate is required to study this pairplot graph "
>>>>>>> 3500bd2e9b58dd11f83829e0ad2058b2fcee24df
   ]
  },
  {
   "cell_type": "code",
   "execution_count": null,
   "metadata": {},
   "outputs": [],
   "source": [
<<<<<<< HEAD
    "sns.scatterplot(data = df , x='outgoing_mins_per_month',y='outgoing_sms_per_month')"
=======
    "\n",
    "plt.hist(x=df.bedrooms)"
>>>>>>> 3500bd2e9b58dd11f83829e0ad2058b2fcee24df
   ]
  },
  {
   "cell_type": "code",
   "execution_count": null,
   "metadata": {},
   "outputs": [],
   "source": [
    "sns.scatterplot(data = df , x='monthly_mb',y='outgoing_sms_per_month')"
   ]
  },
  {
   "cell_type": "code",
   "execution_count": null,
   "metadata": {},
   "outputs": [],
   "source": []
  }
 ],
 "metadata": {
  "interpreter": {
   "hash": "a5055cf8dbec482c608d12f1cf9fb091b77541effa35f176a3529affcaaa155d"
  },
  "kernelspec": {
   "display_name": "Python 3.9.7 ('base')",
   "language": "python",
   "name": "python3"
  },
  "language_info": {
   "codemirror_mode": {
    "name": "ipython",
    "version": 3
   },
   "file_extension": ".py",
   "mimetype": "text/x-python",
   "name": "python",
   "nbconvert_exporter": "python",
   "pygments_lexer": "ipython3",
   "version": "3.9.7"
  },
  "orig_nbformat": 4
 },
 "nbformat": 4,
 "nbformat_minor": 2
}
