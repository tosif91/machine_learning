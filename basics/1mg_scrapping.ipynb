{
 "cells": [
  {
   "cell_type": "code",
   "execution_count": null,
   "metadata": {},
   "outputs": [],
   "source": [
    "# FIRSTLY USE THE LIBRARY \n",
    "import pandas as pd \n",
    "import numpy as np \n",
    "import requests \n",
    "import html5lib \n",
    "import json \n",
    "from bs4 import BeautifulSoup\n"
   ]
  },
  {
   "cell_type": "code",
   "execution_count": null,
   "metadata": {},
   "outputs": [],
   "source": [
    "\n",
    "# EMPTY LIST IT IS USE TO STORE THE DATA \n",
    "\n",
    "dis_title=[]      # DISEASES NAME\n",
    "dis_desc = []     # DISEASES DESCRIPTION\n",
    "dis_link = []     # DISEASES LINK\n",
    "\n",
    "# USE THE  ASYNC AND AWAIT KEYWORDS\n",
    "# TO  ACTUALLY CALL THIS FUNCTION AND WE USE AWAIT TO READ THE FULL PAGE DATA THEN AFER THAT READ THE NEXT PAGE \n",
    "\n",
    "\n",
    "async def getDisease():\n",
    "    # STRING REPRESENTING OF CHARACTER WHICH POINTS TO A UNICODE CODE INTEGER \n",
    "    # Range (97,122)  means a,z \n",
    "    for asc in range(97,123):\n",
    "        # string representing of a character \n",
    "        #  Which points to a Unicode code integer. \n",
    "        #  GET THE DATA OF URL \n",
    "        res = requests.get('https://www.1mg.com/all-diseases?label={0}'.format(chr(asc)))\n",
    "        # DATA CONVERT IN HTML5LIB\n",
    "        soup = BeautifulSoup(res.content,'html5lib') \n",
    "        # FIND THE DATA OF (A) ATTRS \n",
    "        disease_list = soup.find_all('a',attrs = {'class':'Card__productCard__2MScM marginTop-4 Card__text__2W5M-'})\n",
    "        for item in disease_list:\n",
    "            # STORING DATA INTO LIST \n",
    "            dis_desc.append(item.find('p',attrs={'class':'Card__productDescription__-TaIB'}).string)\n",
    "            dis_link.append('https://www.1mg.com'+ item.attrs['href'])\n",
    "            dis_title.append(item.find('p').string)\n",
    "# CALL THE FUNCTION \n",
    "await getDisease()"
   ]
  },
  {
   "cell_type": "code",
   "execution_count": null,
   "metadata": {},
   "outputs": [],
   "source": [
    "# Convert into DATAFRAME\n",
    "df = pd.DataFrame({\n",
    "    'title':dis_title,\n",
    "    'description':dis_desc,\n",
    "    'link':dis_link\n",
    "})\n",
    "df.shape "
   ]
  },
  {
   "cell_type": "code",
   "execution_count": null,
   "metadata": {},
   "outputs": [],
   "source": [
    "# HEAD FUNCTIOIN GIVE THE TOP (5) DATA \n",
    "df.head()"
   ]
  },
  {
   "cell_type": "code",
   "execution_count": null,
   "metadata": {},
   "outputs": [],
   "source": [
    "# DATA CONVERT IN EXCEL\n",
    "df.to_excel('data_all.xlsx')"
   ]
  }
 ],
 "metadata": {
  "interpreter": {
   "hash": "a5055cf8dbec482c608d12f1cf9fb091b77541effa35f176a3529affcaaa155d"
  },
  "kernelspec": {
   "display_name": "Python 3.9.7 ('base')",
   "language": "python",
   "name": "python3"
  },
  "language_info": {
   "codemirror_mode": {
    "name": "ipython",
    "version": 3
   },
   "file_extension": ".py",
   "mimetype": "text/x-python",
   "name": "python",
   "nbconvert_exporter": "python",
   "pygments_lexer": "ipython3",
   "version": "3.9.7"
  },
  "orig_nbformat": 4
 },
 "nbformat": 4,
 "nbformat_minor": 2
}
