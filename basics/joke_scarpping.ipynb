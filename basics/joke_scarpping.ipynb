{
 "cells": [
  {
   "cell_type": "code",
   "execution_count": 9,
   "metadata": {},
   "outputs": [],
   "source": [
    "import pandas as pd \n",
    "import numpy as np \n",
    "import requests \n",
    "import html5lib \n",
    "import json \n",
    "from bs4 import BeautifulSoup\n"
   ]
  },
  {
   "cell_type": "code",
   "execution_count": 10,
   "metadata": {},
   "outputs": [],
   "source": [
    "joke = []\n",
    "whtsapp_link = []\n",
    "async def requestJokes(joke,whtsapp_link):\n",
    "    pg_idx = 1\n",
    "    while pg_idx != 0:\n",
    "        res = requests.get('https://hamariweb.com/mobiles/messages.aspx?cat=9&page={0}'.format(pg_idx))\n",
    "        soup = BeautifulSoup(res.content,'html5lib') \n",
    "        data_list = soup.find_all('div',attrs={'class':'col-lg-4 mb_25'})\n",
    "\n",
    "        if len(data_list) == 0:\n",
    "            pg_idx = 0\n",
    "        else:\n",
    "            pg_idx += 1\n",
    "\n",
    "        for textCard in data_list:\n",
    "            joke.append(textCard.find('a').string)\n",
    "            whtsapp_link.append(textCard.find('a',attrs={'class':'whatsapp_btn'}).attrs['href'])"
   ]
  },
  {
   "cell_type": "code",
   "execution_count": 11,
   "metadata": {},
   "outputs": [],
   "source": [
    "await requestJokes(joke,whtsapp_link)"
   ]
  },
  {
   "cell_type": "code",
   "execution_count": 14,
   "metadata": {},
   "outputs": [],
   "source": [
    "joke_df = pd.DataFrame({\n",
    "    'jokes':joke, \n",
    "    'whtsapp_lnk':whtsapp_link\n",
    "})"
   ]
  },
  {
   "cell_type": "code",
   "execution_count": 22,
   "metadata": {},
   "outputs": [],
   "source": [
    "joke_df.jokes =  joke_df.jokes.apply(lambda x : str(x).replace('\\n',''))"
   ]
  },
  {
   "cell_type": "code",
   "execution_count": 23,
   "metadata": {},
   "outputs": [
    {
     "data": {
      "text/html": [
       "<div>\n",
       "<style scoped>\n",
       "    .dataframe tbody tr th:only-of-type {\n",
       "        vertical-align: middle;\n",
       "    }\n",
       "\n",
       "    .dataframe tbody tr th {\n",
       "        vertical-align: top;\n",
       "    }\n",
       "\n",
       "    .dataframe thead th {\n",
       "        text-align: right;\n",
       "    }\n",
       "</style>\n",
       "<table border=\"1\" class=\"dataframe\">\n",
       "  <thead>\n",
       "    <tr style=\"text-align: right;\">\n",
       "      <th></th>\n",
       "      <th>jokes</th>\n",
       "      <th>whtsapp_lnk</th>\n",
       "    </tr>\n",
       "  </thead>\n",
       "  <tbody>\n",
       "    <tr>\n",
       "      <th>0</th>\n",
       "      <td>Is Garmi MeSubha Ka Nikla HuaAgar Shaam Ko Gha...</td>\n",
       "      <td>https://api.whatsapp.com/send?text=Is%20Garmi%...</td>\n",
       "    </tr>\n",
       "    <tr>\n",
       "      <th>1</th>\n",
       "      <td>What's the similarity between Income Tax and a...</td>\n",
       "      <td>https://api.whatsapp.com/send?text=What's%20th...</td>\n",
       "    </tr>\n",
       "    <tr>\n",
       "      <th>2</th>\n",
       "      <td>Saying Funny jokes boost up the people immunit...</td>\n",
       "      <td>https://api.whatsapp.com/send?text=Saying%20Fu...</td>\n",
       "    </tr>\n",
       "    <tr>\n",
       "      <th>3</th>\n",
       "      <td>Married men live longer than single men do,but...</td>\n",
       "      <td>https://api.whatsapp.com/send?text=Married%20m...</td>\n",
       "    </tr>\n",
       "    <tr>\n",
       "      <th>4</th>\n",
       "      <td>A man in Hell asked Devil: Can I make a call t...</td>\n",
       "      <td>https://api.whatsapp.com/send?text=A%20man%20i...</td>\n",
       "    </tr>\n",
       "  </tbody>\n",
       "</table>\n",
       "</div>"
      ],
      "text/plain": [
       "                                               jokes  \\\n",
       "0  Is Garmi MeSubha Ka Nikla HuaAgar Shaam Ko Gha...   \n",
       "1  What's the similarity between Income Tax and a...   \n",
       "2  Saying Funny jokes boost up the people immunit...   \n",
       "3  Married men live longer than single men do,but...   \n",
       "4  A man in Hell asked Devil: Can I make a call t...   \n",
       "\n",
       "                                         whtsapp_lnk  \n",
       "0  https://api.whatsapp.com/send?text=Is%20Garmi%...  \n",
       "1  https://api.whatsapp.com/send?text=What's%20th...  \n",
       "2  https://api.whatsapp.com/send?text=Saying%20Fu...  \n",
       "3  https://api.whatsapp.com/send?text=Married%20m...  \n",
       "4  https://api.whatsapp.com/send?text=A%20man%20i...  "
      ]
     },
     "execution_count": 23,
     "metadata": {},
     "output_type": "execute_result"
    }
   ],
   "source": [
    "joke_df.head()"
   ]
  },
  {
   "cell_type": "code",
   "execution_count": null,
   "metadata": {},
   "outputs": [],
   "source": []
  },
  {
   "cell_type": "code",
   "execution_count": null,
   "metadata": {},
   "outputs": [],
   "source": [
    "    "
   ]
  }
 ],
 "metadata": {
  "interpreter": {
   "hash": "a5055cf8dbec482c608d12f1cf9fb091b77541effa35f176a3529affcaaa155d"
  },
  "kernelspec": {
   "display_name": "Python 3.9.7 ('base')",
   "language": "python",
   "name": "python3"
  },
  "language_info": {
   "codemirror_mode": {
    "name": "ipython",
    "version": 3
   },
   "file_extension": ".py",
   "mimetype": "text/x-python",
   "name": "python",
   "nbconvert_exporter": "python",
   "pygments_lexer": "ipython3",
   "version": "3.9.7"
  },
  "orig_nbformat": 4
 },
 "nbformat": 4,
 "nbformat_minor": 2
}
